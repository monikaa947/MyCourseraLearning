{
 "cells": [
  {
   "cell_type": "markdown",
   "id": "bb704df3",
   "metadata": {},
   "source": [
    "# Data Science Tools and Ecosystem"
   ]
  },
  {
   "cell_type": "markdown",
   "id": "f0cc04f9",
   "metadata": {},
   "source": [
    "In this notebook, Data Science Tools and Ecosystem are summarized."
   ]
  },
  {
   "cell_type": "markdown",
   "id": "afaf3b78",
   "metadata": {},
   "source": [
    "Some of the popular languages that Data Scientists use are:\n",
    "1. Python\n",
    "2. SQL\n",
    "3. R\n",
    "4. Julia"
   ]
  },
  {
   "cell_type": "markdown",
   "id": "72ab0003",
   "metadata": {},
   "source": [
    "Some of the commonly used libraries used by Data Scientists include:\n",
    "1. Matplot\n",
    "2. Pandas\n",
    "3. Numpy\n",
    "4. Tensorflow"
   ]
  },
  {
   "cell_type": "markdown",
   "id": "ecb08432",
   "metadata": {},
   "source": [
    "Data Science Tools\n",
    "<table >\n",
    "    <tr>\n",
    "        <th >Tools</th>\n",
    "    </tr>\n",
    "    <tr><td>Jupyter Notebook</td></tr>\n",
    "    <tr><td>GitHub</td></tr>\n",
    "    <tr><td>VS code</td></tr>    \n",
    " </table>"
   ]
  },
  {
   "cell_type": "markdown",
   "id": "f13d455d",
   "metadata": {},
   "source": [
    "### Below are a few examples of evaluating arithmetic expressions in Python"
   ]
  },
  {
   "cell_type": "code",
   "execution_count": 2,
   "id": "123e1d09",
   "metadata": {},
   "outputs": [
    {
     "data": {
      "text/plain": [
       "17"
      ]
     },
     "execution_count": 2,
     "metadata": {},
     "output_type": "execute_result"
    }
   ],
   "source": [
    "#This a simple arithmetic expression to mutiply then add integers\n",
    "(3*4)+5"
   ]
  },
  {
   "cell_type": "code",
   "execution_count": 3,
   "id": "39f5ad88",
   "metadata": {},
   "outputs": [
    {
     "data": {
      "text/plain": [
       "3.3333333333333335"
      ]
     },
     "execution_count": 3,
     "metadata": {},
     "output_type": "execute_result"
    }
   ],
   "source": [
    "#This will convert 200 minutes to hours by diving by 60\n",
    "200/60"
   ]
  },
  {
   "cell_type": "markdown",
   "id": "bb6c417c",
   "metadata": {},
   "source": [
    "<b>Objectives:</b>\n",
    "* popular languages\n",
    "* popular tools\n",
    "* popular library"
   ]
  },
  {
   "cell_type": "markdown",
   "id": "a51890f0",
   "metadata": {},
   "source": [
    "## Author\n",
    "Monika Mittal"
   ]
  }
 ],
 "metadata": {
  "kernelspec": {
   "display_name": "Python 3 (ipykernel)",
   "language": "python",
   "name": "python3"
  },
  "language_info": {
   "codemirror_mode": {
    "name": "ipython",
    "version": 3
   },
   "file_extension": ".py",
   "mimetype": "text/x-python",
   "name": "python",
   "nbconvert_exporter": "python",
   "pygments_lexer": "ipython3",
   "version": "3.10.9"
  }
 },
 "nbformat": 4,
 "nbformat_minor": 5
}
